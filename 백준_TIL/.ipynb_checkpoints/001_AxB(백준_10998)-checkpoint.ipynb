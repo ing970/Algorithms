{
 "cells": [
  {
   "cell_type": "markdown",
   "id": "7ca39a81",
   "metadata": {},
   "source": [
    "# 001. AxB (10998번)"
   ]
  },
  {
   "cell_type": "markdown",
   "id": "ff7dfb58",
   "metadata": {},
   "source": [
    "- 백준\n",
    "\n",
    "https://www.acmicpc.net/problem/10998\n"
   ]
  },
  {
   "cell_type": "markdown",
   "id": "5c1a0e47",
   "metadata": {},
   "source": [
    "# 문제\n",
    "- 두 정수 A와 B를 입력받은 다음, A×B를 출력하는 프로그램을 작성하시오."
   ]
  },
  {
   "cell_type": "markdown",
   "id": "2f188c6e",
   "metadata": {},
   "source": [
    "# 입력\n",
    "- 첫째 줄에 A와 B가 주어진다. (0 < A, B < 10)"
   ]
  },
  {
   "cell_type": "markdown",
   "id": "5d5dff3e",
   "metadata": {},
   "source": [
    "# 출력\n",
    "- 첫째 줄에 A×B를 출력한다."
   ]
  },
  {
   "cell_type": "markdown",
   "id": "e4b24f4c",
   "metadata": {},
   "source": [
    "# 예제 입력1"
   ]
  },
  {
   "cell_type": "code",
   "execution_count": null,
   "id": "5d9b80b0",
   "metadata": {},
   "outputs": [],
   "source": [
    "1 2"
   ]
  },
  {
   "cell_type": "markdown",
   "id": "b83f6ca7",
   "metadata": {},
   "source": [
    "# 예제 출력 1"
   ]
  },
  {
   "cell_type": "code",
   "execution_count": null,
   "id": "beabb8b8",
   "metadata": {},
   "outputs": [],
   "source": [
    "2"
   ]
  },
  {
   "cell_type": "markdown",
   "id": "53f63a5c",
   "metadata": {},
   "source": [
    "# 예제 입력2"
   ]
  },
  {
   "cell_type": "code",
   "execution_count": null,
   "id": "6a837299",
   "metadata": {},
   "outputs": [],
   "source": [
    "3 4"
   ]
  },
  {
   "cell_type": "markdown",
   "id": "a607e44c",
   "metadata": {},
   "source": [
    "# 예제 출력 2"
   ]
  },
  {
   "cell_type": "code",
   "execution_count": null,
   "id": "eda3518a",
   "metadata": {},
   "outputs": [],
   "source": [
    "12"
   ]
  },
  {
   "cell_type": "markdown",
   "id": "1d6cb0c5",
   "metadata": {},
   "source": [
    "## solution 1."
   ]
  },
  {
   "cell_type": "code",
   "execution_count": 1,
   "id": "077b4fe5",
   "metadata": {
    "scrolled": true
   },
   "outputs": [
    {
     "name": "stdout",
     "output_type": "stream",
     "text": [
      "1 2\n",
      "2\n"
     ]
    }
   ],
   "source": [
    "A, B = map(int, input().split())\n",
    "print(A * B)"
   ]
  },
  {
   "cell_type": "markdown",
   "id": "f45fd1d4",
   "metadata": {},
   "source": [
    "## solution 2."
   ]
  },
  {
   "cell_type": "code",
   "execution_count": null,
   "id": "ce0a0762",
   "metadata": {},
   "outputs": [],
   "source": []
  }
 ],
 "metadata": {
  "kernelspec": {
   "display_name": "Python 3 (ipykernel)",
   "language": "python",
   "name": "python3"
  },
  "language_info": {
   "codemirror_mode": {
    "name": "ipython",
    "version": 3
   },
   "file_extension": ".py",
   "mimetype": "text/x-python",
   "name": "python",
   "nbconvert_exporter": "python",
   "pygments_lexer": "ipython3",
   "version": "3.9.16"
  }
 },
 "nbformat": 4,
 "nbformat_minor": 5
}
