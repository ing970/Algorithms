{
 "cells": [
  {
   "cell_type": "markdown",
   "id": "706d28ce",
   "metadata": {},
   "source": [
    "# 조코딩 파이썬 강의 2주차"
   ]
  },
  {
   "cell_type": "markdown",
   "id": "674f59d0",
   "metadata": {},
   "source": [
    "## 1. 파이썬 메소드"
   ]
  },
  {
   "cell_type": "code",
   "execution_count": null,
   "id": "c4c063d9",
   "metadata": {},
   "outputs": [],
   "source": [
    "index, find"
   ]
  },
  {
   "cell_type": "code",
   "execution_count": null,
   "id": "c1b7777a",
   "metadata": {
    "collapsed": true
   },
   "outputs": [],
   "source": [
    "count"
   ]
  },
  {
   "cell_type": "code",
   "execution_count": null,
   "id": "abfa60ca",
   "metadata": {},
   "outputs": [],
   "source": [
    "join"
   ]
  },
  {
   "cell_type": "code",
   "execution_count": null,
   "id": "45979ef7",
   "metadata": {},
   "outputs": [],
   "source": [
    "lower"
   ]
  },
  {
   "cell_type": "code",
   "execution_count": null,
   "id": "f0eb7e2d",
   "metadata": {},
   "outputs": [],
   "source": [
    "upper"
   ]
  },
  {
   "cell_type": "code",
   "execution_count": null,
   "id": "4d83302d",
   "metadata": {},
   "outputs": [],
   "source": []
  },
  {
   "cell_type": "code",
   "execution_count": 3,
   "id": "0e93e031",
   "metadata": {},
   "outputs": [
    {
     "name": "stdout",
     "output_type": "stream",
     "text": [
      "hi \n"
     ]
    }
   ],
   "source": [
    "a = \" hi \"\n",
    "print(a.lstrip())"
   ]
  },
  {
   "cell_type": "code",
   "execution_count": 2,
   "id": "09b162a8",
   "metadata": {},
   "outputs": [
    {
     "name": "stdout",
     "output_type": "stream",
     "text": [
      " leg is too short \n"
     ]
    }
   ],
   "source": [
    "a = \" Life is too short \"\n",
    "print(a.replace(\"Life\", \"leg\"))"
   ]
  },
  {
   "cell_type": "code",
   "execution_count": 4,
   "id": "5e6f5177",
   "metadata": {},
   "outputs": [
    {
     "name": "stdout",
     "output_type": "stream",
     "text": [
      "['Life', 'is', 'too', 'short']\n"
     ]
    }
   ],
   "source": [
    "a = \"Life is too short\"\n",
    "print(a.split())"
   ]
  },
  {
   "cell_type": "code",
   "execution_count": 6,
   "id": "74115f33",
   "metadata": {
    "scrolled": true
   },
   "outputs": [
    {
     "name": "stdout",
     "output_type": "stream",
     "text": [
      "['a', 'b', 'c', 'd']\n"
     ]
    }
   ],
   "source": [
    "a = \"a:b:c:d\"\n",
    "print(a.split(\":\"))"
   ]
  },
  {
   "cell_type": "markdown",
   "id": "a55ae777",
   "metadata": {},
   "source": [
    "## 2. 리스트"
   ]
  },
  {
   "cell_type": "code",
   "execution_count": 9,
   "id": "b01af98f",
   "metadata": {},
   "outputs": [
    {
     "name": "stdout",
     "output_type": "stream",
     "text": [
      "<class 'list'>\n"
     ]
    }
   ],
   "source": [
    "odd = [1, 3, 5, 7, 9]\n",
    "print(type(odd))"
   ]
  },
  {
   "cell_type": "code",
   "execution_count": 13,
   "id": "85285b17",
   "metadata": {},
   "outputs": [
    {
     "name": "stdout",
     "output_type": "stream",
     "text": [
      "<class 'list'>\n"
     ]
    }
   ],
   "source": [
    "e = [1, 2, ['life', 'is']]\n",
    "print(type(e))"
   ]
  },
  {
   "cell_type": "code",
   "execution_count": null,
   "id": "d996f81f",
   "metadata": {},
   "outputs": [],
   "source": [
    "a = [1, 2, 3, [\"a\", \"b\", \"c\"]]"
   ]
  },
  {
   "cell_type": "code",
   "execution_count": 16,
   "id": "a7e07a62",
   "metadata": {},
   "outputs": [
    {
     "name": "stdout",
     "output_type": "stream",
     "text": [
      "[1, 2, 3, 4, 5]\n"
     ]
    }
   ],
   "source": [
    "a = [1, 2, 3, 4, 5]\n",
    "print(a[::])"
   ]
  },
  {
   "cell_type": "code",
   "execution_count": 17,
   "id": "03c2467b",
   "metadata": {},
   "outputs": [
    {
     "data": {
      "text/plain": [
       "5"
      ]
     },
     "execution_count": 17,
     "metadata": {},
     "output_type": "execute_result"
    }
   ],
   "source": [
    "len(a)"
   ]
  },
  {
   "cell_type": "code",
   "execution_count": 19,
   "id": "67dc1953",
   "metadata": {},
   "outputs": [
    {
     "name": "stdout",
     "output_type": "stream",
     "text": [
      "[1, 2, 3, 4]\n"
     ]
    }
   ],
   "source": [
    "a = [1, 4, 3, 2]\n",
    "a.sort()\n",
    "print(a)"
   ]
  },
  {
   "cell_type": "code",
   "execution_count": 22,
   "id": "ffc51211",
   "metadata": {},
   "outputs": [
    {
     "name": "stdout",
     "output_type": "stream",
     "text": [
      "[4, 3, 2, 1]\n"
     ]
    }
   ],
   "source": [
    "a.sort()\n",
    "a.reverse()\n",
    "print(a)"
   ]
  },
  {
   "cell_type": "code",
   "execution_count": 25,
   "id": "df89da80",
   "metadata": {},
   "outputs": [
    {
     "name": "stdout",
     "output_type": "stream",
     "text": [
      "2\n"
     ]
    }
   ],
   "source": [
    "a = [1, 2, 3, 4]\n",
    "print(a.index(3))"
   ]
  },
  {
   "cell_type": "code",
   "execution_count": 26,
   "id": "d0fbc978",
   "metadata": {},
   "outputs": [
    {
     "name": "stdout",
     "output_type": "stream",
     "text": [
      "[1, 2, 4]\n"
     ]
    }
   ],
   "source": [
    "a.remove(3)\n",
    "print(a)"
   ]
  },
  {
   "cell_type": "code",
   "execution_count": 27,
   "id": "a5079ec9",
   "metadata": {},
   "outputs": [
    {
     "name": "stdout",
     "output_type": "stream",
     "text": [
      "4\n"
     ]
    }
   ],
   "source": [
    "print(a.pop())"
   ]
  },
  {
   "cell_type": "code",
   "execution_count": 28,
   "id": "6d871fd3",
   "metadata": {},
   "outputs": [
    {
     "name": "stdout",
     "output_type": "stream",
     "text": [
      "[1, 2]\n"
     ]
    }
   ],
   "source": [
    "print(a)"
   ]
  },
  {
   "cell_type": "code",
   "execution_count": null,
   "id": "05345876",
   "metadata": {},
   "outputs": [],
   "source": [
    "extend()"
   ]
  }
 ],
 "metadata": {
  "kernelspec": {
   "display_name": "Python 3 (ipykernel)",
   "language": "python",
   "name": "python3"
  },
  "language_info": {
   "codemirror_mode": {
    "name": "ipython",
    "version": 3
   },
   "file_extension": ".py",
   "mimetype": "text/x-python",
   "name": "python",
   "nbconvert_exporter": "python",
   "pygments_lexer": "ipython3",
   "version": "3.9.16"
  }
 },
 "nbformat": 4,
 "nbformat_minor": 5
}
