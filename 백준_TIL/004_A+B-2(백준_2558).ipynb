{
 "cells": [
  {
   "cell_type": "markdown",
   "id": "7ca39a81",
   "metadata": {},
   "source": [
    "# 004. A+B-2 (2558번)"
   ]
  },
  {
   "cell_type": "markdown",
   "id": "ff7dfb58",
   "metadata": {},
   "source": [
    "- 백준\n",
    "\n",
    "https://www.acmicpc.net/problem/2558\n"
   ]
  },
  {
   "cell_type": "markdown",
   "id": "5c1a0e47",
   "metadata": {},
   "source": [
    "# 문제\n",
    "- 두 정수 A와 B를 입력받은 다음, A+B를 출력하는 프로그램을 작성하시오.\n",
    "\n"
   ]
  },
  {
   "cell_type": "markdown",
   "id": "2f188c6e",
   "metadata": {},
   "source": [
    "# 입력\n",
    "- 첫째 줄에 A, 둘째 줄에 B가 주어진다. (0 < A, B < 10)"
   ]
  },
  {
   "cell_type": "markdown",
   "id": "5d5dff3e",
   "metadata": {},
   "source": [
    "# 출력\n",
    "- 첫째 줄에 A+B를 출력한다."
   ]
  },
  {
   "cell_type": "markdown",
   "id": "518595d4",
   "metadata": {},
   "source": [
    "# 예제 입력1"
   ]
  },
  {
   "cell_type": "code",
   "execution_count": null,
   "id": "4d62823e",
   "metadata": {},
   "outputs": [],
   "source": [
    "1\n",
    "2"
   ]
  },
  {
   "cell_type": "markdown",
   "id": "8a4bc1f0",
   "metadata": {},
   "source": [
    "# 예제 출력 1"
   ]
  },
  {
   "cell_type": "code",
   "execution_count": null,
   "id": "81fe5cbe",
   "metadata": {},
   "outputs": [],
   "source": [
    "3"
   ]
  },
  {
   "cell_type": "markdown",
   "id": "1d6cb0c5",
   "metadata": {},
   "source": [
    "## solution 1."
   ]
  },
  {
   "cell_type": "code",
   "execution_count": 1,
   "id": "077b4fe5",
   "metadata": {
    "scrolled": true
   },
   "outputs": [
    {
     "name": "stdout",
     "output_type": "stream",
     "text": [
      "1\n",
      "2\n",
      "3\n"
     ]
    }
   ],
   "source": [
    "a = int(input())\n",
    "b = int(input())\n",
    "\n",
    "print(a + b)"
   ]
  }
 ],
 "metadata": {
  "kernelspec": {
   "display_name": "Python 3 (ipykernel)",
   "language": "python",
   "name": "python3"
  },
  "language_info": {
   "codemirror_mode": {
    "name": "ipython",
    "version": 3
   },
   "file_extension": ".py",
   "mimetype": "text/x-python",
   "name": "python",
   "nbconvert_exporter": "python",
   "pygments_lexer": "ipython3",
   "version": "3.9.16"
  }
 },
 "nbformat": 4,
 "nbformat_minor": 5
}
