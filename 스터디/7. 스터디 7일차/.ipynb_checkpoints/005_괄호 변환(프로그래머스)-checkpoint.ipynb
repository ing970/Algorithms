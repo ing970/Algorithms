{
 "cells": [
  {
   "cell_type": "markdown",
   "id": "7ca39a81",
   "metadata": {},
   "source": [
    "# 005. 괄호 변환 (프로그래머스)\n"
   ]
  },
  {
   "cell_type": "markdown",
   "id": "ff7dfb58",
   "metadata": {},
   "source": [
    "- 백준 \n",
    "\n",
    "https://www.acmicpc.net/problem/10829"
   ]
  },
  {
   "cell_type": "markdown",
   "id": "5c1a0e47",
   "metadata": {},
   "source": [
    "# 문제\n",
    "자연수 N이 주어진다. N을 이진수로 바꿔서 출력하는 프로그램을 작성하시오."
   ]
  },
  {
   "cell_type": "markdown",
   "id": "2f188c6e",
   "metadata": {},
   "source": [
    "# 입력\n",
    "첫째 줄에 자연수 N이 주어진다. (1 ≤ N ≤ 100,000,000,000,000)"
   ]
  },
  {
   "cell_type": "markdown",
   "id": "5d5dff3e",
   "metadata": {},
   "source": [
    "# 출력\n",
    "N을 이진수로 바꿔서 출력한다. 이진수는 0으로 시작하면 안 된다."
   ]
  },
  {
   "cell_type": "markdown",
   "id": "d085102a",
   "metadata": {},
   "source": [
    "# 예제 입력 1"
   ]
  },
  {
   "cell_type": "code",
   "execution_count": null,
   "id": "9e75d79f",
   "metadata": {},
   "outputs": [],
   "source": [
    "53"
   ]
  },
  {
   "cell_type": "markdown",
   "id": "caa34886",
   "metadata": {},
   "source": [
    "# 예제 출력1"
   ]
  },
  {
   "cell_type": "code",
   "execution_count": null,
   "id": "bf4e36f8",
   "metadata": {},
   "outputs": [],
   "source": [
    "110101"
   ]
  },
  {
   "cell_type": "markdown",
   "id": "90fb693c",
   "metadata": {},
   "source": [
    "# 힌트."
   ]
  },
  {
   "cell_type": "markdown",
   "id": "1d6cb0c5",
   "metadata": {},
   "source": [
    "## solution 1."
   ]
  },
  {
   "cell_type": "code",
   "execution_count": 2,
   "id": "fc5e9013",
   "metadata": {},
   "outputs": [
    {
     "name": "stdout",
     "output_type": "stream",
     "text": [
      "53\n",
      "0b110101\n"
     ]
    }
   ],
   "source": [
    "n = int(input())\n",
    "\n",
    "result = bin(n)\n",
    "\n",
    "print(result)"
   ]
  },
  {
   "cell_type": "code",
   "execution_count": 7,
   "id": "c16d98a0",
   "metadata": {},
   "outputs": [
    {
     "name": "stdout",
     "output_type": "stream",
     "text": [
      "53\n",
      "0b110101\n"
     ]
    }
   ],
   "source": [
    "n = int(input())\n",
    "\n",
    "result = format(n, '#b')\n",
    "\n",
    "print(result)"
   ]
  },
  {
   "cell_type": "code",
   "execution_count": 8,
   "id": "40147077",
   "metadata": {},
   "outputs": [
    {
     "name": "stdout",
     "output_type": "stream",
     "text": [
      "53\n",
      "110101\n"
     ]
    }
   ],
   "source": [
    "n = int(input())\n",
    "\n",
    "result = format(n, 'b')\n",
    "\n",
    "print(result)"
   ]
  },
  {
   "cell_type": "code",
   "execution_count": null,
   "id": "18e9a9c8",
   "metadata": {},
   "outputs": [],
   "source": [
    "8(2) = 1000"
   ]
  },
  {
   "cell_type": "markdown",
   "id": "a89748ac",
   "metadata": {},
   "source": [
    "### 실패"
   ]
  },
  {
   "cell_type": "code",
   "execution_count": null,
   "id": "8af645f9",
   "metadata": {},
   "outputs": [],
   "source": [
    "def func(i):\n",
    "\n",
    "    func(i//2)\n",
    "\n",
    "    if i == 1:\n",
    "        return 0\n",
    "    else:\n",
    "        return i%2\n",
    "\n",
    "n = int(input())\n",
    "print(func())"
   ]
  },
  {
   "cell_type": "markdown",
   "id": "1f54f2d7",
   "metadata": {},
   "source": [
    "### 성공"
   ]
  },
  {
   "cell_type": "code",
   "execution_count": 2,
   "id": "f4a23fce",
   "metadata": {},
   "outputs": [
    {
     "name": "stdout",
     "output_type": "stream",
     "text": [
      "53\n",
      "110101\n"
     ]
    }
   ],
   "source": [
    "\n",
    "def func(i):\n",
    "    if i == 1:\n",
    "        return 1\n",
    "    \n",
    "    x = func(i//2)\n",
    "    \n",
    "    x = str(x) + str(i%2)\n",
    "    return x\n",
    "\n",
    "n = int(input())\n",
    "print(func(n))"
   ]
  },
  {
   "cell_type": "markdown",
   "id": "94d486ca",
   "metadata": {},
   "source": [
    "## solution 2."
   ]
  }
 ],
 "metadata": {
  "kernelspec": {
   "display_name": "Python 3 (ipykernel)",
   "language": "python",
   "name": "python3"
  },
  "language_info": {
   "codemirror_mode": {
    "name": "ipython",
    "version": 3
   },
   "file_extension": ".py",
   "mimetype": "text/x-python",
   "name": "python",
   "nbconvert_exporter": "python",
   "pygments_lexer": "ipython3",
   "version": "3.9.13"
  }
 },
 "nbformat": 4,
 "nbformat_minor": 5
}
