{
 "cells": [
  {
   "cell_type": "markdown",
   "id": "7ca39a81",
   "metadata": {},
   "source": [
    "# 003. 별찍기 (2447번)\n"
   ]
  },
  {
   "cell_type": "markdown",
   "id": "ff7dfb58",
   "metadata": {},
   "source": [
    "- 백준 \n",
    "\n",
    "https://www.acmicpc.net/problem/2447"
   ]
  },
  {
   "cell_type": "markdown",
   "id": "5c1a0e47",
   "metadata": {},
   "source": [
    "# 문제\n",
    "재귀적인 패턴으로 별을 찍어 보자. N이 3의 거듭제곱(3, 9, 27, ...)이라고 할 때, 크기 N의 패턴은 N×N 정사각형 모양이다.\n",
    "\n",
    "크기 3의 패턴은 가운데에 공백이 있고, 가운데를 제외한 모든 칸에 별이 하나씩 있는 패턴이다."
   ]
  },
  {
   "cell_type": "code",
   "execution_count": null,
   "id": "91425ad4",
   "metadata": {},
   "outputs": [],
   "source": [
    "***\n",
    "* *\n",
    "***"
   ]
  },
  {
   "cell_type": "markdown",
   "id": "b04beb5f",
   "metadata": {},
   "source": [
    "N이 3보다 클 경우, 크기 N의 패턴은 공백으로 채워진 가운데의 (N/3)×(N/3) 정사각형을 크기 N/3의 패턴으로 둘러싼 형태이다. 예를 들어 크기 27의 패턴은 예제 출력 1과 같다."
   ]
  },
  {
   "cell_type": "markdown",
   "id": "2f188c6e",
   "metadata": {},
   "source": [
    "# 입력\n",
    "첫째 줄에 N이 주어진다. N은 3의 거듭제곱이다. 즉 어떤 정수 k에 대해 N=3k이며, 이때 1 ≤ k < 8이다."
   ]
  },
  {
   "cell_type": "markdown",
   "id": "5d5dff3e",
   "metadata": {},
   "source": [
    "# 출력\n",
    "첫째 줄부터 N번째 줄까지 별을 출력한다."
   ]
  },
  {
   "cell_type": "markdown",
   "id": "d085102a",
   "metadata": {},
   "source": [
    "# 예제 입력 1"
   ]
  },
  {
   "cell_type": "code",
   "execution_count": null,
   "id": "9e75d79f",
   "metadata": {},
   "outputs": [],
   "source": [
    "27"
   ]
  },
  {
   "cell_type": "markdown",
   "id": "caa34886",
   "metadata": {},
   "source": [
    "# 예제 출력1"
   ]
  },
  {
   "cell_type": "code",
   "execution_count": null,
   "id": "bf4e36f8",
   "metadata": {},
   "outputs": [],
   "source": [
    "***************************\n",
    "* ** ** ** ** ** ** ** ** *\n",
    "***************************\n",
    "***   ******   ******   ***\n",
    "* *   * ** *   * ** *   * *\n",
    "***   ******   ******   ***\n",
    "***************************\n",
    "* ** ** ** ** ** ** ** ** *\n",
    "***************************\n",
    "*********         *********\n",
    "* ** ** *         * ** ** *\n",
    "*********         *********\n",
    "***   ***         ***   ***\n",
    "* *   * *         * *   * *\n",
    "***   ***         ***   ***\n",
    "*********         *********\n",
    "* ** ** *         * ** ** *\n",
    "*********         *********\n",
    "***************************\n",
    "* ** ** ** ** ** ** ** ** *\n",
    "***************************\n",
    "***   ******   ******   ***\n",
    "* *   * ** *   * ** *   * *\n",
    "***   ******   ******   ***\n",
    "***************************\n",
    "* ** ** ** ** ** ** ** ** *\n",
    "***************************"
   ]
  },
  {
   "cell_type": "markdown",
   "id": "90fb693c",
   "metadata": {},
   "source": [
    "# 힌트."
   ]
  },
  {
   "cell_type": "markdown",
   "id": "1d6cb0c5",
   "metadata": {},
   "source": [
    "## solution 1."
   ]
  },
  {
   "cell_type": "code",
   "execution_count": null,
   "id": "2e1735a3",
   "metadata": {},
   "outputs": [],
   "source": []
  },
  {
   "cell_type": "code",
   "execution_count": null,
   "id": "328ebf67",
   "metadata": {},
   "outputs": [],
   "source": []
  },
  {
   "cell_type": "code",
   "execution_count": null,
   "id": "a1409038",
   "metadata": {},
   "outputs": [],
   "source": []
  },
  {
   "cell_type": "markdown",
   "id": "94d486ca",
   "metadata": {},
   "source": [
    "## solution 2."
   ]
  }
 ],
 "metadata": {
  "kernelspec": {
   "display_name": "Python 3 (ipykernel)",
   "language": "python",
   "name": "python3"
  },
  "language_info": {
   "codemirror_mode": {
    "name": "ipython",
    "version": 3
   },
   "file_extension": ".py",
   "mimetype": "text/x-python",
   "name": "python",
   "nbconvert_exporter": "python",
   "pygments_lexer": "ipython3",
   "version": "3.9.13"
  }
 },
 "nbformat": 4,
 "nbformat_minor": 5
}
